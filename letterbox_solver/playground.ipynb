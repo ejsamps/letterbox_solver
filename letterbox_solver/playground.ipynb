{
 "cells": [
  {
   "cell_type": "code",
   "execution_count": 1,
   "metadata": {},
   "outputs": [
    {
     "name": "stdout",
     "output_type": "stream",
     "text": [
      "['AB']\n"
     ]
    }
   ],
   "source": [
    "words = ['YUH', 'SHOOT', 'AB']\n",
    "\n",
    "possibles = []\n",
    "for word in words:\n",
    "    if set(word).issubset(set('ABC')):\n",
    "        possibles.append(word)\n",
    "\n",
    "\n",
    "\n",
    "\n",
    "    for letter in word:\n",
    "        if letter not in \"ABC\":\n",
    "            words.remove(word)\n",
    "            break\n",
    "\n",
    "print(possibles)\n"
   ]
  },
  {
   "cell_type": "code",
   "execution_count": 3,
   "metadata": {},
   "outputs": [
    {
     "name": "stdout",
     "output_type": "stream",
     "text": [
      "{'A', 'T', 'P', 'O'}\n"
     ]
    },
    {
     "data": {
      "text/plain": [
       "False"
      ]
     },
     "execution_count": 3,
     "metadata": {},
     "output_type": "execute_result"
    }
   ],
   "source": [
    "ye = set(\"POTATO\")\n",
    "print(ye)\n",
    "other = set()\n",
    "\n",
    "ye.issubset(other)"
   ]
  },
  {
   "cell_type": "code",
   "execution_count": 4,
   "metadata": {},
   "outputs": [
    {
     "name": "stdout",
     "output_type": "stream",
     "text": [
      "{'A', 'J', 'B', 'C', 'D'}\n"
     ]
    }
   ],
   "source": [
    "print(set('ABDJC'))"
   ]
  },
  {
   "cell_type": "code",
   "execution_count": 5,
   "metadata": {},
   "outputs": [
    {
     "name": "stdout",
     "output_type": "stream",
     "text": [
      "yuh\n"
     ]
    }
   ],
   "source": [
    "if 'in' in 'jacoabin':\n",
    "    print('yuh')"
   ]
  },
  {
   "cell_type": "code",
   "execution_count": 6,
   "metadata": {},
   "outputs": [
    {
     "name": "stdout",
     "output_type": "stream",
     "text": [
      "[('A', 'B'), ('A', 'C'), ('B', 'A'), ('B', 'C'), ('C', 'A'), ('C', 'B')]\n"
     ]
    }
   ],
   "source": [
    "from itertools import permutations\n",
    "\n",
    "print(list(permutations('ABC',2)))"
   ]
  },
  {
   "cell_type": "code",
   "execution_count": 12,
   "metadata": {},
   "outputs": [
    {
     "name": "stdout",
     "output_type": "stream",
     "text": [
      "Collecting PyEnchant\n",
      "  Downloading pyenchant-3.2.2-py3-none-any.whl (55 kB)\n",
      "\u001b[2K     \u001b[90m━━━━━━━━━━━━━━━━━━━━━━━━━━━━━━━━━━━━━━━━\u001b[0m \u001b[32m55.7/55.7 kB\u001b[0m \u001b[31m1.2 MB/s\u001b[0m eta \u001b[36m0:00:00\u001b[0m\n",
      "\u001b[?25hInstalling collected packages: PyEnchant\n",
      "Successfully installed PyEnchant-3.2.2\n"
     ]
    }
   ],
   "source": [
    "!pip install PyEnchant"
   ]
  },
  {
   "cell_type": "code",
   "execution_count": 16,
   "metadata": {},
   "outputs": [
    {
     "ename": "ImportError",
     "evalue": "cannot import name 'Dict' from 'enchant' (/opt/miniconda3/envs/myenv/lib/python3.10/site-packages/enchant/__init__.py)",
     "output_type": "error",
     "traceback": [
      "\u001b[0;31m---------------------------------------------------------------------------\u001b[0m",
      "\u001b[0;31mImportError\u001b[0m                               Traceback (most recent call last)",
      "Cell \u001b[0;32mIn[16], line 1\u001b[0m\n\u001b[0;32m----> 1\u001b[0m \u001b[39mfrom\u001b[39;00m \u001b[39menchant\u001b[39;00m \u001b[39mimport\u001b[39;00m Dict\n\u001b[1;32m      3\u001b[0m \u001b[39m# Load English dictionary\u001b[39;00m\n\u001b[1;32m      4\u001b[0m d \u001b[39m=\u001b[39m Dict(\u001b[39m\"\u001b[39m\u001b[39men_US\u001b[39m\u001b[39m\"\u001b[39m)\n",
      "\u001b[0;31mImportError\u001b[0m: cannot import name 'Dict' from 'enchant' (/opt/miniconda3/envs/myenv/lib/python3.10/site-packages/enchant/__init__.py)"
     ]
    }
   ],
   "source": [
    "from enchant import Dict\n",
    "\n",
    "# Load English dictionary\n",
    "d = Dict(\"en_US\")\n",
    "\n",
    "# Define function to capitalize words\n",
    "def capitalize_all(word):\n",
    "  return word.title()\n",
    "\n",
    "# Create an empty list to store capitalized words\n",
    "capitalized_words = []\n",
    "\n",
    "# Iterate through words in the dictionary and capitalize them\n",
    "for word in d:\n",
    "  capitalized_words.append(capitalize_all(word))\n",
    "\n",
    "# Now you have a list of capitalized words\n",
    "print(capitalized_words[:10])  # Print the first 10 words for reference\n"
   ]
  },
  {
   "cell_type": "code",
   "execution_count": 18,
   "metadata": {},
   "outputs": [
    {
     "name": "stdout",
     "output_type": "stream",
     "text": [
      "w\n"
     ]
    }
   ],
   "source": [
    "yuh = 'word'\n",
    "print(yuh[0])"
   ]
  },
  {
   "cell_type": "code",
   "execution_count": 23,
   "metadata": {},
   "outputs": [
    {
     "name": "stdout",
     "output_type": "stream",
     "text": [
      "['brand', 'model', 'year']\n"
     ]
    }
   ],
   "source": [
    "car = {\n",
    "  \"brand\": \"Ford\",\n",
    "  \"model\": \"Mustang\",\n",
    "  \"year\": 1964\n",
    "}\n",
    "\n",
    "x = list(car.keys())\n",
    "\n",
    "print(x)"
   ]
  },
  {
   "cell_type": "code",
   "execution_count": 24,
   "metadata": {},
   "outputs": [
    {
     "name": "stdout",
     "output_type": "stream",
     "text": [
      "{'banana'}\n"
     ]
    }
   ],
   "source": [
    "def intersection_of_sets(set1, set2):\n",
    "  \"\"\"\n",
    "  Finds the intersection of two sets of strings.\n",
    "\n",
    "  Args:\n",
    "      set1: The first set of strings.\n",
    "      set2: The second set of strings.\n",
    "\n",
    "  Returns:\n",
    "      A set containing the strings that are in both set1 and set2.\n",
    "  \"\"\"\n",
    "\n",
    "  return set1 & set2\n",
    "\n",
    "# Example usage\n",
    "set1 = {\"apple\", \"banana\", \"cherry\"}\n",
    "set2 = {\"mango\", \"banana\", \"orange\"}\n",
    "\n",
    "intersection = intersection_of_sets(set1, set2)\n",
    "print(intersection)"
   ]
  },
  {
   "cell_type": "code",
   "execution_count": 13,
   "metadata": {},
   "outputs": [
    {
     "name": "stdout",
     "output_type": "stream",
     "text": [
      "VDRYOTMACWFG\n"
     ]
    }
   ],
   "source": [
    "import random\n",
    "from collections import Counter\n",
    "\n",
    "# English letter frequencies (source: https://en.wikipedia.org/wiki/Letter_frequency)\n",
    "letter_frequencies = {\n",
    "  'A': 8.167, 'B': 1.492, 'C': 2.782, 'D': 4.253, 'E': 12.702,\n",
    "  'F': 2.228, 'G': 2.015, 'H': 6.094, 'I': 7.546, 'J': 0.153,\n",
    "  'K': 0.772, 'L': 4.025, 'M': 2.406, 'N': 6.749, 'O': 7.507,\n",
    "  'P': 1.929, 'Q': 0.095, 'R': 5.987, 'S': 6.024, 'T': 9.056,\n",
    "  'U': 2.758, 'V': 0.978, 'W': 2.360, 'X': 0.150, 'Y': 1.974,\n",
    "  'Z': 0.074\n",
    "}\n",
    "\n",
    "def generate_unique_string_by_frequency(length=12):\n",
    "  \"\"\"\n",
    "  Generates a random string of unique uppercase letters based on English language letter frequency.\n",
    "\n",
    "  Args:\n",
    "      length (int, optional): The desired length of the string. Defaults to 12.\n",
    "\n",
    "  Returns:\n",
    "      str: A random string of unique uppercase letters with frequency-based probability.\n",
    "  \"\"\"\n",
    "\n",
    "  # Normalize frequencies into probabilities\n",
    "  total_letters = sum(letter_frequencies.values())\n",
    "  letter_probabilities = {letter: freq / total_letters for letter, freq in letter_frequencies.items()}\n",
    "\n",
    "  # Create a copy of probabilities for tracking remaining options\n",
    "  available_probabilities = letter_probabilities.copy()\n",
    "\n",
    "  # Initialize empty string\n",
    "  unique_string = \"\"\n",
    "\n",
    "  while len(unique_string) < length:\n",
    "    # Randomly choose a letter based on probabilities\n",
    "    chosen_letter = random.choices(list(available_probabilities.keys()), weights=list(available_probabilities.values()))[0]\n",
    "\n",
    "    # Add the letter to the string and remove it from available options\n",
    "    unique_string += chosen_letter\n",
    "    del available_probabilities[chosen_letter]\n",
    "\n",
    "  return unique_string\n",
    "\n",
    "# Example usage\n",
    "random_string = generate_unique_string_by_frequency()\n",
    "print(random_string)"
   ]
  }
 ],
 "metadata": {
  "kernelspec": {
   "display_name": "myenv",
   "language": "python",
   "name": "python3"
  },
  "language_info": {
   "codemirror_mode": {
    "name": "ipython",
    "version": 3
   },
   "file_extension": ".py",
   "mimetype": "text/x-python",
   "name": "python",
   "nbconvert_exporter": "python",
   "pygments_lexer": "ipython3",
   "version": "3.10.9"
  },
  "orig_nbformat": 4
 },
 "nbformat": 4,
 "nbformat_minor": 2
}
